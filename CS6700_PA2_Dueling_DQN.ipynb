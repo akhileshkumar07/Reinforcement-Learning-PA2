{
  "cells": [
    {
      "cell_type": "code",
      "execution_count": null,
      "metadata": {
        "id": "6U9o5TLgESXj"
      },
      "outputs": [],
      "source": [
        "import gym\n",
        "import numpy as np\n",
        "import torch\n",
        "import torch.nn as nn\n",
        "import torch.optim as optim\n",
        "from collections import deque\n",
        "import matplotlib.pyplot as plt\n",
        "from tqdm.auto import tqdm\n",
        "import warnings\n",
        "warnings.filterwarnings('ignore')"
      ]
    },
    {
      "cell_type": "code",
      "execution_count": null,
      "metadata": {
        "id": "owR2QlnEaUCf"
      },
      "outputs": [],
      "source": [
        "# Dueling DQN Network\n",
        "class DuelingDQN(nn.Module):\n",
        "    def __init__(self, input_dim, output_dim):\n",
        "        super(DuelingDQN, self).__init__()\n",
        "        self.feature_layer = nn.Sequential(\n",
        "            nn.Linear(input_dim, 128),\n",
        "            nn.ReLU()\n",
        "        )\n",
        "        self.advantage_layer = nn.Sequential(\n",
        "            nn.Linear(128, 128),\n",
        "            nn.ReLU(),\n",
        "            nn.Linear(128, output_dim)\n",
        "        )\n",
        "        self.value_layer = nn.Sequential(\n",
        "            nn.Linear(128, 128),\n",
        "            nn.ReLU(),\n",
        "            nn.Linear(128, 1)\n",
        "        )\n",
        "\n",
        "    def forward(self, x):\n",
        "        x = self.feature_layer(x)\n",
        "        advantage = self.advantage_layer(x)\n",
        "        value = self.value_layer(x)\n",
        "        return value + advantage - advantage.mean(dim=1, keepdim=True)"
      ]
    },
    {
      "cell_type": "code",
      "execution_count": null,
      "metadata": {
        "id": "Yn9KUd_6aY4l"
      },
      "outputs": [],
      "source": [
        "# Replay Buffer\n",
        "class ReplayBuffer:\n",
        "    def __init__(self, capacity):\n",
        "        self.buffer = deque(maxlen=capacity)\n",
        "\n",
        "    def push(self, state, action, reward, next_state, done):\n",
        "        experience = (state, action, reward, next_state, done)\n",
        "        self.buffer.append(experience)\n",
        "\n",
        "    def sample(self, batch_size):\n",
        "        batch = np.random.choice(len(self.buffer), batch_size, replace=False)\n",
        "        states, actions, rewards, next_states, dones = zip(*[self.buffer[idx] for idx in batch])\n",
        "        return np.array(states), np.array(actions), np.array(rewards, dtype=np.float32), np.array(next_states), np.array(dones, dtype=np.uint8)\n",
        "\n",
        "    def __len__(self):\n",
        "        return len(self.buffer)"
      ]
    },
    {
      "cell_type": "code",
      "execution_count": null,
      "metadata": {
        "id": "iH_kv177abm4"
      },
      "outputs": [],
      "source": [
        "# Dueling DQN Agent\n",
        "class DuelingDQNAgent:\n",
        "    def __init__(self, env, gamma=0.99, lr=0.001, update_rule='average', replay_buffer_capacity=10000):\n",
        "        self.env = env\n",
        "        self.gamma = gamma\n",
        "        self.device = torch.device(\"cuda\" if torch.cuda.is_available() else \"cpu\")\n",
        "\n",
        "        self.input_dim = env.observation_space.shape[0]\n",
        "        self.output_dim = env.action_space.n\n",
        "\n",
        "        self.Q_net = DuelingDQN(self.input_dim, self.output_dim).to(self.device)\n",
        "        self.target_net = DuelingDQN(self.input_dim, self.output_dim).to(self.device)\n",
        "        self.target_net.load_state_dict(self.Q_net.state_dict())\n",
        "        self.target_net.eval()\n",
        "\n",
        "        self.optimizer = optim.Adam(self.Q_net.parameters(), lr=lr)\n",
        "\n",
        "        self.update_rule = update_rule\n",
        "\n",
        "        self.replay_buffer = ReplayBuffer(replay_buffer_capacity)\n",
        "\n",
        "    def select_action(self, state, epsilon=0.1):\n",
        "        if np.random.rand() < epsilon:\n",
        "            return self.env.action_space.sample()\n",
        "        else:\n",
        "            state = torch.tensor(state, dtype=torch.float32).unsqueeze(0).to(self.device)\n",
        "            with torch.no_grad():\n",
        "                Q_values = self.Q_net(state)\n",
        "            return Q_values.argmax().item()\n",
        "\n",
        "    def update_network(self, batch_size):\n",
        "        if len(self.replay_buffer) < batch_size:\n",
        "            return\n",
        "\n",
        "        states, actions, rewards, next_states, dones = self.replay_buffer.sample(batch_size)\n",
        "        states = torch.tensor(states, dtype=torch.float32).to(self.device)\n",
        "        actions = torch.tensor(actions).to(self.device)\n",
        "        rewards = torch.tensor(rewards).to(self.device)\n",
        "        next_states = torch.tensor(next_states, dtype=torch.float32).to(self.device)\n",
        "        dones = torch.tensor(dones).to(self.device)\n",
        "\n",
        "        Q_values = self.Q_net(states)\n",
        "        next_Q_values = self.target_net(next_states).detach()\n",
        "\n",
        "        if self.update_rule == 'average':\n",
        "            Q_value = Q_values.gather(1, actions.unsqueeze(1)).squeeze(1)\n",
        "            next_Q_value = next_Q_values.mean(1)\n",
        "        elif self.update_rule == 'max':\n",
        "            Q_value = Q_values.gather(1, actions.unsqueeze(1)).squeeze(1)\n",
        "            next_Q_value = next_Q_values.max(1)[0]\n",
        "\n",
        "        target_Q_value = rewards + self.gamma * next_Q_value * (1 - dones)\n",
        "\n",
        "        loss = nn.MSELoss()(Q_value, target_Q_value)\n",
        "\n",
        "        self.optimizer.zero_grad()\n",
        "        loss.backward()\n",
        "        self.optimizer.step()\n",
        "\n",
        "    def update_target_network(self):\n",
        "        self.target_net.load_state_dict(self.Q_net.state_dict())\n",
        "\n",
        "    def train(self, episodes=1000, max_steps=500, batch_size=64, epsilon_start=1.0, epsilon_end=0.1, epsilon_decay=0.99):\n",
        "      episodic_returns = []\n",
        "      epsilon = epsilon_start\n",
        "      for episode in tqdm(range(episodes)):\n",
        "          state = self.env.reset()\n",
        "          episodic_return = 0\n",
        "          for step in range(max_steps):\n",
        "              action = self.select_action(state, epsilon)\n",
        "              next_state, reward, done, _ = self.env.step(action)\n",
        "              self.replay_buffer.push(state, action, reward, next_state, done)\n",
        "              episodic_return += reward\n",
        "\n",
        "              self.update_network(batch_size)\n",
        "              if step % 100 == 0:\n",
        "                  self.update_target_network()\n",
        "\n",
        "              state = next_state\n",
        "              if done:\n",
        "                  break\n",
        "\n",
        "          episodic_returns.append(episodic_return)\n",
        "          epsilon = max(epsilon_end, epsilon_decay * epsilon)\n",
        "\n",
        "          # calculate average reward\n",
        "          #avg_reward = np.mean(episodic_returns[-100:]) if len(episodic_returns) >= 100 else np.mean(episodic_returns)\n",
        "          #print(f\"Episode {episode + 1}/{episodes}, Episode Reward: {episodic_return}, Average Reward: {avg_reward:.4f}\")\n",
        "\n",
        "      return episodic_returns"
      ]
    },
    {
      "cell_type": "code",
      "execution_count": null,
      "metadata": {
        "id": "0GSDkVQhaem9"
      },
      "outputs": [],
      "source": [
        "# Training function to train the agent on the environment and update rule\n",
        "def train_agent(env_name, update_rule, gamma=0.99, lr=0.001, replay_buffer_capacity=10000, episodes=1000, max_steps=500, batch_size=64, epsilon_start=1.0, epsilon_end=0.1, epsilon_decay=0.99):\n",
        "    env = gym.make(env_name)\n",
        "    agent = DuelingDQNAgent(env, gamma=gamma, lr=lr, update_rule=update_rule, replay_buffer_capacity=replay_buffer_capacity)\n",
        "\n",
        "    num_runs = 5\n",
        "    all_returns = []\n",
        "    for run in range(num_runs):\n",
        "        print(f'Experiment Run: {run+1}')\n",
        "        returns = agent.train(episodes=episodes, max_steps=max_steps, batch_size=batch_size, epsilon_start=epsilon_start, epsilon_end=epsilon_end, epsilon_decay=epsilon_decay)\n",
        "        all_returns.append(returns)\n",
        "\n",
        "    mean_returns = np.mean(all_returns, axis=0)\n",
        "    std_returns = np.std(all_returns, axis=0)\n",
        "\n",
        "    return mean_returns, std_returns"
      ]
    },
    {
      "cell_type": "code",
      "execution_count": null,
      "metadata": {
        "id": "YoBtV1AragYt"
      },
      "outputs": [],
      "source": [
        "def plot_episodic_returns(mean_returns_list, std_returns_list, env_name, update_rules):\n",
        "    update_map = {\"average\":\"Type-1\", \"max\":\"Type-2\"}\n",
        "    for i in range(len(mean_returns_list)):\n",
        "        plt.plot(mean_returns_list[i], label=f'{update_map[update_rules[i]]}')\n",
        "        plt.fill_between(range(len(mean_returns_list[i])), mean_returns_list[i] - std_returns_list[i], mean_returns_list[i] + std_returns_list[i], alpha=0.2)\n",
        "    plt.xlabel('Episodes')\n",
        "    plt.ylabel('Episodic Return')\n",
        "    plt.title(f'Dueling DQN - {env_name}')\n",
        "    plt.legend()\n",
        "    plt.show()"
      ]
    },
    {
      "cell_type": "code",
      "execution_count": null,
      "metadata": {
        "id": "_1X4mYWGaiQo"
      },
      "outputs": [],
      "source": [
        "hyperparameters = {\n",
        "    'gamma': 0.99,\n",
        "    'lr': 0.001,\n",
        "    'replay_buffer_capacity': 10000,\n",
        "    'episodes': 500,\n",
        "    'max_steps': 500,\n",
        "    'batch_size': 128,\n",
        "    'epsilon_start': 1.0,\n",
        "    'epsilon_end': 0.1,\n",
        "    'epsilon_decay': 0.99\n",
        "}\n"
      ]
    },
    {
      "cell_type": "code",
      "execution_count": null,
      "metadata": {
        "id": "OldIq3ICajsZ"
      },
      "outputs": [],
      "source": [
        "env_name = 'CartPole-v1'\n",
        "update_rules = ['average', 'max']\n",
        "mean_returns_list = []\n",
        "std_returns_list = []\n",
        "\n",
        "for update_rule in update_rules:\n",
        "    print(f\"Training {env_name} with {update_rule} update rule\".upper())\n",
        "    mean_returns, std_returns = train_agent(env_name, update_rule, **hyperparameters)\n",
        "    mean_returns_list.append(mean_returns)\n",
        "    std_returns_list.append(std_returns)\n",
        "\n",
        "plot_episodic_returns(mean_returns_list, std_returns_list, env_name, update_rules)"
      ]
    },
    {
      "cell_type": "code",
      "execution_count": null,
      "metadata": {
        "id": "1eDkw8phamcl"
      },
      "outputs": [],
      "source": [
        "env_name = 'Acrobot-v1'\n",
        "update_rules = ['average', 'max']\n",
        "mean_returns_list = []\n",
        "std_returns_list = []\n",
        "\n",
        "for update_rule in update_rules:\n",
        "    print(f\"Training {env_name} with {update_rule} update rule\".upper())\n",
        "    mean_returns, std_returns = train_agent(env_name, update_rule, **hyperparameters)\n",
        "    mean_returns_list.append(mean_returns)\n",
        "    std_returns_list.append(std_returns)\n",
        "\n",
        "plot_episodic_returns(mean_returns_list, std_returns_list, env_name, update_rules)"
      ]
    }
  ],
  "metadata": {
    "accelerator": "GPU",
    "colab": {
      "gpuType": "T4",
      "provenance": []
    },
    "kernelspec": {
      "display_name": "Python 3",
      "name": "python3"
    },
    "language_info": {
      "codemirror_mode": {
        "name": "ipython",
        "version": 3
      },
      "file_extension": ".py",
      "mimetype": "text/x-python",
      "name": "python",
      "nbconvert_exporter": "python",
      "pygments_lexer": "ipython3",
      "version": "3.10.12"
    }
  },
  "nbformat": 4,
  "nbformat_minor": 0
}
